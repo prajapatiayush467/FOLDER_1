{
 "cells": [
  {
   "cell_type": "code",
   "execution_count": 39,
   "metadata": {},
   "outputs": [],
   "source": [
    "# for manipulations\n",
    "import numpy as np\n",
    "import pandas as pd\n",
    "\n",
    "# for data visualization\n",
    "import matplotlib.pyplot as plt\n",
    "import seaborn as sns\n",
    "\n",
    "# for interactivity\n",
    "from ipywidgets import interact"
   ]
  },
  {
   "cell_type": "code",
   "execution_count": 40,
   "metadata": {},
   "outputs": [],
   "source": [
    "# lets read the dataset\n",
    "data = pd.read_csv('data.csv')"
   ]
  },
  {
   "cell_type": "code",
   "execution_count": 41,
   "metadata": {},
   "outputs": [
    {
     "name": "stdout",
     "output_type": "stream",
     "text": [
      "shape of data row,column (2200, 8)\n"
     ]
    }
   ],
   "source": [
    "# lets check the shape of dataset\n",
    "print(\"shape of data row,column\",data.shape)"
   ]
  },
  {
   "cell_type": "code",
   "execution_count": 42,
   "metadata": {},
   "outputs": [
    {
     "data": {
      "text/html": [
       "<div>\n",
       "<style scoped>\n",
       "    .dataframe tbody tr th:only-of-type {\n",
       "        vertical-align: middle;\n",
       "    }\n",
       "\n",
       "    .dataframe tbody tr th {\n",
       "        vertical-align: top;\n",
       "    }\n",
       "\n",
       "    .dataframe thead th {\n",
       "        text-align: right;\n",
       "    }\n",
       "</style>\n",
       "<table border=\"1\" class=\"dataframe\">\n",
       "  <thead>\n",
       "    <tr style=\"text-align: right;\">\n",
       "      <th></th>\n",
       "      <th>N</th>\n",
       "      <th>P</th>\n",
       "      <th>K</th>\n",
       "      <th>temperature</th>\n",
       "      <th>humidity</th>\n",
       "      <th>ph</th>\n",
       "      <th>rainfall</th>\n",
       "      <th>label</th>\n",
       "    </tr>\n",
       "  </thead>\n",
       "  <tbody>\n",
       "    <tr>\n",
       "      <th>0</th>\n",
       "      <td>90</td>\n",
       "      <td>42</td>\n",
       "      <td>43</td>\n",
       "      <td>20.879744</td>\n",
       "      <td>82.002744</td>\n",
       "      <td>6.502985</td>\n",
       "      <td>202.935536</td>\n",
       "      <td>rice</td>\n",
       "    </tr>\n",
       "    <tr>\n",
       "      <th>1</th>\n",
       "      <td>85</td>\n",
       "      <td>58</td>\n",
       "      <td>41</td>\n",
       "      <td>21.770462</td>\n",
       "      <td>80.319644</td>\n",
       "      <td>7.038096</td>\n",
       "      <td>226.655537</td>\n",
       "      <td>rice</td>\n",
       "    </tr>\n",
       "    <tr>\n",
       "      <th>2</th>\n",
       "      <td>60</td>\n",
       "      <td>55</td>\n",
       "      <td>44</td>\n",
       "      <td>23.004459</td>\n",
       "      <td>82.320763</td>\n",
       "      <td>7.840207</td>\n",
       "      <td>263.964248</td>\n",
       "      <td>rice</td>\n",
       "    </tr>\n",
       "    <tr>\n",
       "      <th>3</th>\n",
       "      <td>74</td>\n",
       "      <td>35</td>\n",
       "      <td>40</td>\n",
       "      <td>26.491096</td>\n",
       "      <td>80.158363</td>\n",
       "      <td>6.980401</td>\n",
       "      <td>242.864034</td>\n",
       "      <td>rice</td>\n",
       "    </tr>\n",
       "    <tr>\n",
       "      <th>4</th>\n",
       "      <td>78</td>\n",
       "      <td>42</td>\n",
       "      <td>42</td>\n",
       "      <td>20.130175</td>\n",
       "      <td>81.604873</td>\n",
       "      <td>7.628473</td>\n",
       "      <td>262.717340</td>\n",
       "      <td>rice</td>\n",
       "    </tr>\n",
       "  </tbody>\n",
       "</table>\n",
       "</div>"
      ],
      "text/plain": [
       "    N   P   K  temperature   humidity        ph    rainfall label\n",
       "0  90  42  43    20.879744  82.002744  6.502985  202.935536  rice\n",
       "1  85  58  41    21.770462  80.319644  7.038096  226.655537  rice\n",
       "2  60  55  44    23.004459  82.320763  7.840207  263.964248  rice\n",
       "3  74  35  40    26.491096  80.158363  6.980401  242.864034  rice\n",
       "4  78  42  42    20.130175  81.604873  7.628473  262.717340  rice"
      ]
     },
     "execution_count": 42,
     "metadata": {},
     "output_type": "execute_result"
    }
   ],
   "source": [
    "# lets check the head of data set\n",
    "data.head()"
   ]
  },
  {
   "cell_type": "code",
   "execution_count": 43,
   "metadata": {},
   "outputs": [
    {
     "data": {
      "text/plain": [
       "N              0\n",
       "P              0\n",
       "K              0\n",
       "temperature    0\n",
       "humidity       0\n",
       "ph             0\n",
       "rainfall       0\n",
       "label          0\n",
       "dtype: int64"
      ]
     },
     "execution_count": 43,
     "metadata": {},
     "output_type": "execute_result"
    }
   ],
   "source": [
    "# lets check if there is any missing values present in the dataset\n",
    "data.isnull().sum()"
   ]
  },
  {
   "cell_type": "code",
   "execution_count": 44,
   "metadata": {},
   "outputs": [],
   "source": [
    "# fill-na function is used to replace thses missing values with statistical values such as mean, median ,mode\n",
    "# na means Not Available\n",
    "# Pandas have functions like fill-na, drop-na, to treat missing values\n",
    "# when to use median mode or mean in first point\n",
    "# median - \n",
    "# mode - categorical values\n",
    "# mean - numerical values"
   ]
  },
  {
   "cell_type": "code",
   "execution_count": 45,
   "metadata": {},
   "outputs": [
    {
     "data": {
      "text/plain": [
       "pomegranate    100\n",
       "banana         100\n",
       "blackgram      100\n",
       "rice           100\n",
       "chickpea       100\n",
       "kidneybeans    100\n",
       "coffee         100\n",
       "jute           100\n",
       "grapes         100\n",
       "watermelon     100\n",
       "orange         100\n",
       "lentil         100\n",
       "mungbean       100\n",
       "mango          100\n",
       "muskmelon      100\n",
       "papaya         100\n",
       "apple          100\n",
       "cotton         100\n",
       "pigeonpeas     100\n",
       "mothbeans      100\n",
       "maize          100\n",
       "coconut        100\n",
       "Name: label, dtype: int64"
      ]
     },
     "execution_count": 45,
     "metadata": {},
     "output_type": "execute_result"
    }
   ],
   "source": [
    "# lets check the crops present in our database\n",
    "data['label'].value_counts()"
   ]
  },
  {
   "cell_type": "code",
   "execution_count": 46,
   "metadata": {},
   "outputs": [
    {
     "name": "stdout",
     "output_type": "stream",
     "text": [
      "Average Ratio of Nitrogen in the soil :  50.551818181818184\n"
     ]
    }
   ],
   "source": [
    "# lets check the summary for all crops\n",
    "print(\"Average Ratio of Nitrogen in the soil : \",data['N'].mean())"
   ]
  },
  {
   "cell_type": "code",
   "execution_count": 47,
   "metadata": {},
   "outputs": [
    {
     "data": {
      "application/vnd.jupyter.widget-view+json": {
       "model_id": "fee011866e1440298f7b991097ef54b9",
       "version_major": 2,
       "version_minor": 0
      },
      "text/plain": [
       "interactive(children=(Dropdown(description='crops', options=('pomegranate', 'banana', 'blackgram', 'rice', 'ch…"
      ]
     },
     "metadata": {},
     "output_type": "display_data"
    }
   ],
   "source": [
    "# lets check the summary statistics for each crop\n",
    "\n",
    "@interact\n",
    "def summary(crops = list(data['label'].value_counts().index)):\n",
    "    x = data[data['label']==crops]\n",
    "    print(\"Stats for Nitrogen\")\n",
    "    print(\"Min Nitrogen req : \",x['N'].min())\n",
    "    print(\"Max Nitrogen req : \",x['N'].max())\n",
    "    print(\"Avg Nitrogen req : \",x['N'].mean())\n",
    "    print(\"Stats for Phosphorus\")\n",
    "    print(\"Min Phosphorus req : \",x['P'].min())\n",
    "    print(\"Max Phosphorus req : \",x['P'].max())\n",
    "    print(\"Avg Phosphorus req : \",x['P'].mean())\n",
    "    print(\"Stats for Pottasium\")\n",
    "    print(\"Min Pottasium req : \",x['K'].min())\n",
    "    print(\"Max Pottasium req : \",x['K'].max())\n",
    "    print(\"Avg Pottasium req : \",x['K'].mean())\n",
    "    print(\"Stats for Temprature\")\n",
    "    print(\"Min Temprature req : \",x['temperature'].min())\n",
    "    print(\"Max Temprature req : \",x['temperature'].max())\n",
    "    print(\"Avg Temprature req : \",x['temperature'].mean())"
   ]
  },
  {
   "cell_type": "code",
   "execution_count": 48,
   "metadata": {},
   "outputs": [
    {
     "data": {
      "application/vnd.jupyter.widget-view+json": {
       "model_id": "5639e6db94614d7eba4b6e5a1e94ae23",
       "version_major": 2,
       "version_minor": 0
      },
      "text/plain": [
       "interactive(children=(Dropdown(description='conditions', options=('N', 'P', 'K', 'temperature', 'ph', 'humidit…"
      ]
     },
     "metadata": {},
     "output_type": "display_data"
    }
   ],
   "source": [
    "# lets make functions more intutive\n",
    "\n",
    "@interact\n",
    "def compare(conditions=['N','P','K','temperature','ph','humidity','rainfall']):\n",
    "    print(\"Crops which require greater than average\",conditions,'\\n')\n",
    "    print(data[data[conditions]>data[conditions].mean()]['label'].unique())\n",
    "    print(\"Crops which require lesser than average\",conditions,'\\n')\n",
    "    print(data[data[conditions]<=data[conditions].mean()]['label'].unique())"
   ]
  },
  {
   "cell_type": "code",
   "execution_count": 49,
   "metadata": {},
   "outputs": [
    {
     "name": "stderr",
     "output_type": "stream",
     "text": [
      "D:\\SoftwareFiles\\anaconda3\\lib\\site-packages\\seaborn\\distributions.py:2551: FutureWarning: `distplot` is a deprecated function and will be removed in a future version. Please adapt your code to use either `displot` (a figure-level function with similar flexibility) or `histplot` (an axes-level function for histograms).\n",
      "  warnings.warn(msg, FutureWarning)\n"
     ]
    },
    {
     "data": {
      "image/png": "[encoded data removed]",
      "text/plain": [
       "<Figure size 720x720 with 1 Axes>"
      ]
     },
     "metadata": {
      "needs_background": "light"
     },
     "output_type": "display_data"
    }
   ],
   "source": [
    "# to check distribution using seaborn\n",
    "\n",
    "plt.subplot(2,4,1)\n",
    "sns.distplot(data['K'],color='darkblue')\n",
    "plt.xlabel('Ratio of Pottasium',fontsize=12)\n",
    "plt.grid()\n",
    "\n",
    "plt.suptitle('Distribution for Agricultural Conditions',fontsize=20)\n",
    "plt.show()\n"
   ]
  },
  {
   "cell_type": "code",
   "execution_count": 50,
   "metadata": {},
   "outputs": [
    {
     "name": "stdout",
     "output_type": "stream",
     "text": [
      "Crops requires very high ratio of Pottasium in Soil : ['grapes' 'apple']\n"
     ]
    }
   ],
   "source": [
    "# some intresting facts thiss 200 comes from distribution chart\n",
    "print(\"Crops requires very high ratio of Pottasium in Soil :\",data[data['K']>200]['label'].unique())"
   ]
  },
  {
   "cell_type": "code",
   "execution_count": 51,
   "metadata": {},
   "outputs": [
    {
     "name": "stdout",
     "output_type": "stream",
     "text": [
      "Summer Crops\n",
      "['pigeonpeas' 'mothbeans' 'blackgram' 'mango' 'grapes' 'orange' 'papaya']\n",
      "Winter Crops\n",
      "['maize' 'pigeonpeas' 'lentil' 'pomegranate' 'grapes' 'orange']\n",
      "Rainy Crops\n",
      "['rice' 'papaya' 'coconut']\n"
     ]
    }
   ],
   "source": [
    "# diffrentiating crops on seasons basis\n",
    "print(\"Summer Crops\")\n",
    "print(data[(data['temperature']>30)&(data['humidity']>50)]['label'].unique())\n",
    "print(\"Winter Crops\")\n",
    "print(data[(data['temperature']<20)&(data['humidity']>30)]['label'].unique())\n",
    "print(\"Rainy Crops\")\n",
    "print(data[(data['rainfall']>200)&(data['humidity']>50)]['label'].unique())"
   ]
  },
  {
   "cell_type": "code",
   "execution_count": 52,
   "metadata": {},
   "outputs": [
    {
     "name": "stdout",
     "output_type": "stream",
     "text": [
      "(2200, 7)\n"
     ]
    }
   ],
   "source": [
    "from sklearn.cluster import KMeans\n",
    "\n",
    "#removing the labels column in unsupervised we didnt need labels\n",
    "x=data.drop(['label'],axis=1)\n",
    "\n",
    "#selecting all the values of the data \n",
    "x=x.values\n",
    "\n",
    "#checking the shape\n",
    "print(x.shape)"
   ]
  },
  {
   "cell_type": "code",
   "execution_count": 53,
   "metadata": {},
   "outputs": [
    {
     "data": {
      "image/png": "[encoded data removed]",
      "text/plain": [
       "<Figure size 720x288 with 1 Axes>"
      ]
     },
     "metadata": {
      "needs_background": "light"
     },
     "output_type": "display_data"
    }
   ],
   "source": [
    "# lets check optimum numbers of clusters in the datasets using elbow chart\n",
    "\n",
    "plt.rcParams['figure.figsize']=(10,4)\n",
    "\n",
    "wcss=[]\n",
    "for i in range(1,11):\n",
    "    km = KMeans(n_clusters = i, init = 'k-means++', max_iter = 300, n_init = 10 , random_state = 0)\n",
    "    km.fit(x)\n",
    "    wcss.append(km.inertia_)\n",
    "    \n",
    "#lets plot the results\n",
    "plt.plot(range(1,11),wcss)\n",
    "plt.title('The Elbow Method',fontsize=20)\n",
    "plt.xlabel('No of Clusters')\n",
    "plt.ylabel('wcss')\n",
    "plt.show()\n",
    " \n",
    "#here we take 4 instead of 3 as clusters "
   ]
  },
  {
   "cell_type": "code",
   "execution_count": 54,
   "metadata": {},
   "outputs": [
    {
     "name": "stdout",
     "output_type": "stream",
     "text": [
      "Results\n",
      "Crops in 1st Cluster ['maize' 'chickpea' 'kidneybeans' 'pigeonpeas' 'mothbeans' 'mungbean'\n",
      " 'blackgram' 'lentil' 'pomegranate' 'mango' 'orange' 'papaya' 'coconut']\n",
      "Crops in 2nd Cluster ['grapes' 'apple']\n",
      "Crops in 3rd Cluster ['rice' 'pigeonpeas' 'papaya' 'coconut' 'jute' 'coffee']\n",
      "Crops in 4th Cluster ['maize' 'banana' 'watermelon' 'muskmelon' 'papaya' 'cotton' 'coffee']\n"
     ]
    }
   ],
   "source": [
    "# lets implement the KMeans algorithm to perform Clustering Analysis\n",
    "km = KMeans(n_clusters = 4, init = 'k-means++', max_iter = 300, n_init = 10 , random_state = 0)\n",
    "y_means = km.fit_predict(x)\n",
    "\n",
    "#lets find out the results\n",
    "a = data['label']\n",
    "y_means = pd.DataFrame(y_means)\n",
    "z = pd.concat([y_means,a],axis=1)\n",
    "z = z.rename(columns={0:'cluster'})\n",
    "\n",
    "#lets check the clusters of each crop\n",
    "print(\"Results\")\n",
    "print(\"Crops in 1st Cluster\",z[z['cluster']==0]['label'].unique())\n",
    "print(\"Crops in 2nd Cluster\",z[z['cluster']==1]['label'].unique())\n",
    "print(\"Crops in 3rd Cluster\",z[z['cluster']==2]['label'].unique())\n",
    "print(\"Crops in 4th Cluster\",z[z['cluster']==3]['label'].unique())"
   ]
  },
  {
   "cell_type": "code",
   "execution_count": 55,
   "metadata": {},
   "outputs": [
    {
     "name": "stdout",
     "output_type": "stream",
     "text": [
      "shape of x: (2200, 7)\n",
      "shape of y: (2200,)\n"
     ]
    }
   ],
   "source": [
    "# we use evaluation matrix to find out accuracy and performance of our model\n",
    "# we use logistic regression\n",
    "# lets split the dataset for predictive modelling\n",
    "\n",
    "y=data['label']\n",
    "x=data.drop(['label'],axis=1)\n",
    "\n",
    "print(\"shape of x:\",x.shape)\n",
    "print(\"shape of y:\",y.shape)"
   ]
  },
  {
   "cell_type": "code",
   "execution_count": 56,
   "metadata": {
    "scrolled": true
   },
   "outputs": [
    {
     "name": "stdout",
     "output_type": "stream",
     "text": [
      "the shape of x_train: (1760, 7)\n",
      "the shape of x_test: (440, 7)\n",
      "the shape of y_train: (1760,)\n",
      "the shape of y_test: (440,)\n"
     ]
    }
   ],
   "source": [
    "# lets create training set and testing set for validation of results\n",
    "from sklearn.model_selection import train_test_split\n",
    "x_train,x_test,y_train,y_test=train_test_split(x,y,test_size=0.2,random_state=0)\n",
    "\n",
    "print(\"the shape of x_train:\",x_train.shape)\n",
    "print(\"the shape of x_test:\",x_test.shape)\n",
    "print(\"the shape of y_train:\",y_train.shape)\n",
    "print(\"the shape of y_test:\",y_test.shape)"
   ]
  },
  {
   "cell_type": "code",
   "execution_count": 57,
   "metadata": {},
   "outputs": [
    {
     "name": "stderr",
     "output_type": "stream",
     "text": [
      "D:\\SoftwareFiles\\anaconda3\\lib\\site-packages\\sklearn\\linear_model\\_logistic.py:762: ConvergenceWarning: lbfgs failed to converge (status=1):\n",
      "STOP: TOTAL NO. of ITERATIONS REACHED LIMIT.\n",
      "\n",
      "Increase the number of iterations (max_iter) or scale the data as shown in:\n",
      "    https://scikit-learn.org/stable/modules/preprocessing.html\n",
      "Please also refer to the documentation for alternative solver options:\n",
      "    https://scikit-learn.org/stable/modules/linear_model.html#logistic-regression\n",
      "  n_iter_i = _check_optimize_result(\n"
     ]
    }
   ],
   "source": [
    "from sklearn.linear_model import LogisticRegression\n",
    "\n",
    "model=LogisticRegression()\n",
    "model.fit(x_train,y_train)\n",
    "y_pred=model.predict(x_test)"
   ]
  },
  {
   "cell_type": "code",
   "execution_count": null,
   "metadata": {},
   "outputs": [],
   "source": []
  },
  {
   "cell_type": "code",
   "execution_count": null,
   "metadata": {},
   "outputs": [],
   "source": []
  },
  {
   "cell_type": "code",
   "execution_count": null,
   "metadata": {},
   "outputs": [],
   "source": []
  }
 ],
 "metadata": {
  "kernelspec": {
   "display_name": "Python 3",
   "language": "python",
   "name": "python3"
  },
  "language_info": {
   "codemirror_mode": {
    "name": "ipython",
    "version": 3
   },
   "file_extension": ".py",
   "mimetype": "text/x-python",
   "name": "python",
   "nbconvert_exporter": "python",
   "pygments_lexer": "ipython3",
   "version": "3.8.5"
  }
 },
 "nbformat": 4,
 "nbformat_minor": 4
}
